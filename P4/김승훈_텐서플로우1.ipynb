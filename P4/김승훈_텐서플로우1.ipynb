{
  "nbformat": 4,
  "nbformat_minor": 0,
  "metadata": {
    "colab": {
      "name": "tensorBasic.ipynb",
      "provenance": [],
      "collapsed_sections": []
    },
    "kernelspec": {
      "name": "python3",
      "display_name": "Python 3"
    }
  },
  "cells": [
    {
      "cell_type": "markdown",
      "metadata": {
        "id": "0MCTPwo-I_9X"
      },
      "source": [
        "복잡한 행렬식은 파이썬 코드로 간단하게 처리할 수 있습니다!"
      ]
    },
    {
      "cell_type": "code",
      "metadata": {
        "id": "rweaNDpildjE"
      },
      "source": [
        "import tensorflow as tf"
      ],
      "execution_count": 1,
      "outputs": []
    },
    {
      "cell_type": "markdown",
      "metadata": {
        "id": "qQZ3i0apJYUM"
      },
      "source": [
        "이것이 2x3 행렬을 코드로 표현한 것입니다"
      ]
    },
    {
      "cell_type": "code",
      "metadata": {
        "id": "JQUJ6rE1kVdr",
        "colab": {
          "base_uri": "https://localhost:8080/"
        },
        "outputId": "6ecca998-57d9-40e9-ef61-a82abac55aec"
      },
      "source": [
        "x=tf.constant([[1.0,2.0,3.0],[4.0,5.0,6.0]])\n",
        "print(x)\n",
        "print(x.shape)"
      ],
      "execution_count": 2,
      "outputs": [
        {
          "output_type": "stream",
          "text": [
            "tf.Tensor(\n",
            "[[1. 2. 3.]\n",
            " [4. 5. 6.]], shape=(2, 3), dtype=float32)\n",
            "(2, 3)\n"
          ],
          "name": "stdout"
        }
      ]
    },
    {
      "cell_type": "markdown",
      "metadata": {
        "id": "kVSerqtcJ_B1"
      },
      "source": [
        "행렬의 덧셈"
      ]
    },
    {
      "cell_type": "code",
      "metadata": {
        "id": "bA9D52I-YMKR",
        "colab": {
          "base_uri": "https://localhost:8080/"
        },
        "outputId": "3f6dcc5c-354f-4d78-ed34-0981440c0805"
      },
      "source": [
        "j=tf.constant([1,2,3,4,5,6], shape=[2,3])\n",
        "print(j)\n",
        "k=tf.constant([7,8,9,10,11,12], shape=[2,3])\n",
        "print(k)\n",
        "l=tf.add(j,k)\n",
        "print(l)"
      ],
      "execution_count": 3,
      "outputs": [
        {
          "output_type": "stream",
          "text": [
            "tf.Tensor(\n",
            "[[1 2 3]\n",
            " [4 5 6]], shape=(2, 3), dtype=int32)\n",
            "tf.Tensor(\n",
            "[[ 7  8  9]\n",
            " [10 11 12]], shape=(2, 3), dtype=int32)\n",
            "tf.Tensor(\n",
            "[[ 8 10 12]\n",
            " [14 16 18]], shape=(2, 3), dtype=int32)\n"
          ],
          "name": "stdout"
        }
      ]
    },
    {
      "cell_type": "markdown",
      "metadata": {
        "id": "W4J-lK9uKFV8"
      },
      "source": [
        "행렬의 곱셈"
      ]
    },
    {
      "cell_type": "code",
      "metadata": {
        "id": "FULRdwvVoOlC",
        "colab": {
          "base_uri": "https://localhost:8080/"
        },
        "outputId": "75b6a793-beb3-4c5d-b7f1-2f4ca16ec3a3"
      },
      "source": [
        "a=tf.constant([1,2,3,4,5,6], shape=[2,3])\n",
        "print(a)"
      ],
      "execution_count": 4,
      "outputs": [
        {
          "output_type": "stream",
          "text": [
            "tf.Tensor(\n",
            "[[1 2 3]\n",
            " [4 5 6]], shape=(2, 3), dtype=int32)\n"
          ],
          "name": "stdout"
        }
      ]
    },
    {
      "cell_type": "code",
      "metadata": {
        "id": "LQq7SUuOpB-O",
        "colab": {
          "base_uri": "https://localhost:8080/"
        },
        "outputId": "75d4bda2-238b-4a6b-c754-c72cd5d64048"
      },
      "source": [
        "b=tf.constant([7,8,9,10,11,12], shape=[3,2])\n",
        "print(b)"
      ],
      "execution_count": 5,
      "outputs": [
        {
          "output_type": "stream",
          "text": [
            "tf.Tensor(\n",
            "[[ 7  8]\n",
            " [ 9 10]\n",
            " [11 12]], shape=(3, 2), dtype=int32)\n"
          ],
          "name": "stdout"
        }
      ]
    },
    {
      "cell_type": "code",
      "metadata": {
        "id": "0tvyrgBIYLBb",
        "colab": {
          "base_uri": "https://localhost:8080/"
        },
        "outputId": "4f692e56-acd3-4a10-a16f-e3dfac4f9d61"
      },
      "source": [
        "c=tf.matmul(a,b)\n",
        "print(c)"
      ],
      "execution_count": 6,
      "outputs": [
        {
          "output_type": "stream",
          "text": [
            "tf.Tensor(\n",
            "[[ 58  64]\n",
            " [139 154]], shape=(2, 2), dtype=int32)\n"
          ],
          "name": "stdout"
        }
      ]
    },
    {
      "cell_type": "markdown",
      "metadata": {
        "id": "enoiJQRhKnP1"
      },
      "source": [
        "행렬의 나눗셈. 1/x을 계산하기"
      ]
    },
    {
      "cell_type": "code",
      "metadata": {
        "id": "8KdiTMNvbhHT",
        "colab": {
          "base_uri": "https://localhost:8080/"
        },
        "outputId": "c6ef07b1-fcfb-466f-d92c-6b4a98d48b59"
      },
      "source": [
        "x = tf.constant([[2, 0], [0, 1]], dtype=tf.float32)\n",
        "print('x = ', x)\n",
        "print()\n",
        "y=tf.linalg.inv(x).numpy()\n",
        "print('y = ', y)\n",
        "print()\n",
        "print('x 곱하기 y =', tf.matmul(x,y))\n"
      ],
      "execution_count": 7,
      "outputs": [
        {
          "output_type": "stream",
          "text": [
            "x =  tf.Tensor(\n",
            "[[2. 0.]\n",
            " [0. 1.]], shape=(2, 2), dtype=float32)\n",
            "\n",
            "y =  [[0.5 0. ]\n",
            " [0.  1. ]]\n",
            "\n",
            "x 곱하기 y = tf.Tensor(\n",
            "[[1. 0.]\n",
            " [0. 1.]], shape=(2, 2), dtype=float32)\n"
          ],
          "name": "stdout"
        }
      ]
    },
    {
      "cell_type": "code",
      "metadata": {
        "id": "oDkCQDRFlhiG",
        "colab": {
          "base_uri": "https://localhost:8080/"
        },
        "outputId": "6b83d9fe-2748-452f-ee3d-e49dc60363a2"
      },
      "source": [
        "y=tf.constant([[1.0,0.0],[0.0, 1.0], [1.0, 0.0], [0.0, 1.0]])\n",
        "print(y)\n",
        "print(y.shape)"
      ],
      "execution_count": 8,
      "outputs": [
        {
          "output_type": "stream",
          "text": [
            "tf.Tensor(\n",
            "[[1. 0.]\n",
            " [0. 1.]\n",
            " [1. 0.]\n",
            " [0. 1.]], shape=(4, 2), dtype=float32)\n",
            "(4, 2)\n"
          ],
          "name": "stdout"
        }
      ]
    },
    {
      "cell_type": "code",
      "metadata": {
        "id": "qPbaRFw7psag",
        "colab": {
          "base_uri": "https://localhost:8080/"
        },
        "outputId": "145e0138-2bc1-4e54-9db6-a348d6a8b3d4"
      },
      "source": [
        "print(y.dtype)"
      ],
      "execution_count": 9,
      "outputs": [
        {
          "output_type": "stream",
          "text": [
            "<dtype: 'float32'>\n"
          ],
          "name": "stdout"
        }
      ]
    }
  ]
}